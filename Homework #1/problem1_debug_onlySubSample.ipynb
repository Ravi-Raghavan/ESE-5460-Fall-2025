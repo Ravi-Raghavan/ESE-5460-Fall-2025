{
 "cells": [
  {
   "cell_type": "code",
   "execution_count": 1,
   "id": "519f66a5",
   "metadata": {},
   "outputs": [],
   "source": [
    "import pandas as pd \n",
    "\n",
    "### Import numpy and set random seed for reproducability\n",
    "import numpy as np\n",
    "\n",
    "### Download the dataset using the given code\n",
    "from sklearn.datasets import fetch_openml\n",
    "from sklearn.model_selection import train_test_split\n",
    "ds = fetch_openml(\"mnist_784\", as_frame=False)\n",
    "x, x_test, y, y_test = train_test_split(ds.data, ds.target, test_size=0.2, random_state=42)"
   ]
  },
  {
   "cell_type": "code",
   "execution_count": 2,
   "id": "43929756",
   "metadata": {},
   "outputs": [],
   "source": [
    "### Get the max/min of x and x_test. Will proceed to convert to uint8\n",
    "assert np.max(x) == 255\n",
    "assert np.min(x) == 0\n",
    "assert np.max(x_test) == 255\n",
    "assert np.min(x_test) == 0"
   ]
  },
  {
   "cell_type": "code",
   "execution_count": 3,
   "id": "5b4e2c80",
   "metadata": {},
   "outputs": [],
   "source": [
    "### Convert x/x_test to uint8\n",
    "x = x.astype('uint8')\n",
    "x_test = x_test.astype('uint8')"
   ]
  },
  {
   "cell_type": "code",
   "execution_count": 4,
   "id": "9058475a",
   "metadata": {},
   "outputs": [
    {
     "name": "stderr",
     "output_type": "stream",
     "text": [
      "/var/folders/qj/tspvs3x90hg30hgcctblgwfh0000gn/T/ipykernel_57278/1568625766.py:6: DeprecationWarning: DataFrameGroupBy.apply operated on the grouping columns. This behavior is deprecated, and in a future version of pandas the grouping columns will be excluded from the operation. Either pass `include_groups=False` to exclude the groupings or explicitly select the grouping columns after groupby to silence this warning.\n",
      "  df_sub = df.groupby('label', group_keys=False).apply(lambda g: g.sample(1000, random_state=42))\n"
     ]
    }
   ],
   "source": [
    "### Randomly subsample x to create dataset of size 10000 with 1000 samples per label (subsample y accordingly)\n",
    "df = pd.DataFrame(x)\n",
    "df['label'] = y\n",
    "\n",
    "# Sample 1000 rows per class\n",
    "df_sub = df.groupby('label', group_keys=False).apply(lambda g: g.sample(1000, random_state=42))\n",
    "x = df_sub.drop(columns='label').to_numpy()\n",
    "y = df_sub['label'].to_numpy().flatten()"
   ]
  },
  {
   "cell_type": "code",
   "execution_count": 5,
   "id": "de4d25ea",
   "metadata": {},
   "outputs": [],
   "source": [
    "### Use train_test_split to split x and y into train and validation sets (80% train, 20% validation)\n",
    "x_train, x_val, y_train, y_val = train_test_split(x, y, test_size=0.2, random_state=42)"
   ]
  },
  {
   "cell_type": "code",
   "execution_count": 6,
   "id": "4ad5a093",
   "metadata": {},
   "outputs": [
    {
     "name": "stdout",
     "output_type": "stream",
     "text": [
      "Training Accuracy:  1.0\n",
      "Training Error:  0.0\n",
      "Validation Accuracy:  0.0875\n",
      "Validation Error:  0.9125\n",
      "Support Vector Ratio:  1.0\n",
      "Test Accuracy:  0.10142857142857142\n",
      "Test Error:  0.8985714285714286\n",
      "Confusion Matrix:\n",
      " [[   0    0    0    0    0    0    0    0    0 1343]\n",
      " [   0    0    0    0    0    0    0    0    0 1600]\n",
      " [   0    0    0    0    0    0    0    0    0 1380]\n",
      " [   0    0    0    0    0    0    0    0    0 1433]\n",
      " [   0    0    0    0    0    0    0    0    0 1295]\n",
      " [   0    0    0    0    0    0    0    0    0 1273]\n",
      " [   0    0    0    0    0    0    0    0    0 1396]\n",
      " [   0    0    0    0    0    0    0    0    0 1503]\n",
      " [   0    0    0    0    0    0    0    0    0 1357]\n",
      " [   0    0    0    0    0    0    0    0    0 1420]]\n"
     ]
    }
   ],
   "source": [
    "from sklearn import svm\n",
    "classifier = svm.SVC(C = 1.0, kernel = 'rbf', gamma = 'auto')\n",
    "\n",
    "### Fit to training data\n",
    "classifier.fit(x_train, y_train)\n",
    "\n",
    "### Predict labels of training data using trained classifier\n",
    "y_train_pred = classifier.predict(x_train)\n",
    "\n",
    "### Predict labels of validation data using trained classifier\n",
    "y_val_pred = classifier.predict(x_val)\n",
    "\n",
    "### Run the classifier on x_test,y_test\n",
    "y_test_pred = classifier.predict(x_test)\n",
    "\n",
    "### Training Error\n",
    "from sklearn.metrics import accuracy_score\n",
    "training_accuracy_score = accuracy_score(y_train, y_train_pred)\n",
    "train_error = np.mean(y_train_pred != y_train)\n",
    "print(\"Training Accuracy: \", training_accuracy_score)\n",
    "print(\"Training Error: \", train_error)\n",
    "\n",
    "### Validation Error\n",
    "validation_accuracy_score = accuracy_score(y_val, y_val_pred)\n",
    "val_error = np.mean(y_val_pred != y_val)\n",
    "print(\"Validation Accuracy: \", validation_accuracy_score)\n",
    "print(\"Validation Error: \", val_error)\n",
    "\n",
    "### Compute ratio of the number of support samples to the total number of training samples for classifier\n",
    "num_support_vectors = len(classifier.support_)\n",
    "total_training_samples = x_train.shape[0]\n",
    "support_vector_ratio = num_support_vectors / total_training_samples\n",
    "print(\"Support Vector Ratio: \", support_vector_ratio)\n",
    "\n",
    "### Report the classification error for Test Data\n",
    "test_accuracy_score = accuracy_score(y_test, y_test_pred)\n",
    "test_error = np.mean(y_test_pred != y_test)\n",
    "print(\"Test Accuracy: \", test_accuracy_score)\n",
    "print(\"Test Error: \", test_error)\n",
    "\n",
    "### Report the 10-class confusion matrix on the test data\n",
    "from sklearn.metrics import confusion_matrix\n",
    "conf_matrix = confusion_matrix(y_test, y_test_pred)\n",
    "print(\"Confusion Matrix:\\n\", conf_matrix)"
   ]
  }
 ],
 "metadata": {
  "kernelspec": {
   "display_name": "base",
   "language": "python",
   "name": "python3"
  },
  "language_info": {
   "codemirror_mode": {
    "name": "ipython",
    "version": 3
   },
   "file_extension": ".py",
   "mimetype": "text/x-python",
   "name": "python",
   "nbconvert_exporter": "python",
   "pygments_lexer": "ipython3",
   "version": "3.12.7"
  }
 },
 "nbformat": 4,
 "nbformat_minor": 5
}
